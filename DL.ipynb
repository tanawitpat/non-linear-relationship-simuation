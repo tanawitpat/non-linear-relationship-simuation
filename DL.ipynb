{
 "cells": [
  {
   "cell_type": "code",
   "execution_count": 207,
   "metadata": {
    "collapsed": true
   },
   "outputs": [],
   "source": [
    "import tensorflow as tf\n",
    "import pandas as pd\n",
    "import numpy as np\n",
    "import time\n",
    "from math import sqrt\n",
    "from sklearn.model_selection import train_test_split\n",
    "import matplotlib.pyplot as plt\n",
    "from utils.confusion_matrix import show_confusion_matrix"
   ]
  },
  {
   "cell_type": "code",
   "execution_count": 208,
   "metadata": {
    "collapsed": true
   },
   "outputs": [],
   "source": [
    "# data = pd.read_csv(\"simulate-circle.csv\",header=0)\n",
    "data = pd.read_csv(\"simulate-police.csv\",header=0)"
   ]
  },
  {
   "cell_type": "code",
   "execution_count": 209,
   "metadata": {},
   "outputs": [],
   "source": [
    "data = data.drop(['x11','x12','x3','x4','x5','x6','x7','x8','x9','x10'], axis=1)"
   ]
  },
  {
   "cell_type": "code",
   "execution_count": 210,
   "metadata": {},
   "outputs": [
    {
     "data": {
      "text/html": [
       "<div>\n",
       "<style>\n",
       "    .dataframe thead tr:only-child th {\n",
       "        text-align: right;\n",
       "    }\n",
       "\n",
       "    .dataframe thead th {\n",
       "        text-align: left;\n",
       "    }\n",
       "\n",
       "    .dataframe tbody tr th {\n",
       "        vertical-align: top;\n",
       "    }\n",
       "</style>\n",
       "<table border=\"1\" class=\"dataframe\">\n",
       "  <thead>\n",
       "    <tr style=\"text-align: right;\">\n",
       "      <th></th>\n",
       "      <th>x1</th>\n",
       "      <th>x2</th>\n",
       "      <th>y</th>\n",
       "    </tr>\n",
       "  </thead>\n",
       "  <tbody>\n",
       "    <tr>\n",
       "      <th>0</th>\n",
       "      <td>2.151302</td>\n",
       "      <td>1.261139</td>\n",
       "      <td>1</td>\n",
       "    </tr>\n",
       "    <tr>\n",
       "      <th>1</th>\n",
       "      <td>-0.115938</td>\n",
       "      <td>1.591839</td>\n",
       "      <td>0</td>\n",
       "    </tr>\n",
       "    <tr>\n",
       "      <th>2</th>\n",
       "      <td>1.108706</td>\n",
       "      <td>-0.060229</td>\n",
       "      <td>1</td>\n",
       "    </tr>\n",
       "    <tr>\n",
       "      <th>3</th>\n",
       "      <td>-2.637907</td>\n",
       "      <td>-0.257359</td>\n",
       "      <td>1</td>\n",
       "    </tr>\n",
       "    <tr>\n",
       "      <th>4</th>\n",
       "      <td>-0.104738</td>\n",
       "      <td>1.995355</td>\n",
       "      <td>0</td>\n",
       "    </tr>\n",
       "  </tbody>\n",
       "</table>\n",
       "</div>"
      ],
      "text/plain": [
       "         x1        x2  y\n",
       "0  2.151302  1.261139  1\n",
       "1 -0.115938  1.591839  0\n",
       "2  1.108706 -0.060229  1\n",
       "3 -2.637907 -0.257359  1\n",
       "4 -0.104738  1.995355  0"
      ]
     },
     "execution_count": 210,
     "metadata": {},
     "output_type": "execute_result"
    }
   ],
   "source": [
    "data.head()"
   ]
  },
  {
   "cell_type": "code",
   "execution_count": 211,
   "metadata": {},
   "outputs": [],
   "source": [
    "xdata = data.drop('y', axis=1)\n",
    "ydata = data[['y']]\n",
    "xtrain, xtest, ytrain, ytest = train_test_split(xdata, ydata, test_size=0.3, random_state=42)"
   ]
  },
  {
   "cell_type": "code",
   "execution_count": 212,
   "metadata": {
    "collapsed": true
   },
   "outputs": [],
   "source": [
    "# split = int(len(ytest)/2)\n",
    "split=0.2*len(ydata)\n",
    "xvalid = xtest[:split]\n",
    "yvalid = ytest[:split]\n",
    "xtest = xtest[split:]\n",
    "ytest = ytest[split:]"
   ]
  },
  {
   "cell_type": "code",
   "execution_count": 213,
   "metadata": {},
   "outputs": [
    {
     "name": "stdout",
     "output_type": "stream",
     "text": [
      "(6000, 2)\n",
      "(6000, 1)\n",
      "(2000, 2)\n",
      "(2000, 1)\n",
      "(2000, 2)\n",
      "(2000, 1)\n"
     ]
    }
   ],
   "source": [
    "print(xtrain.shape)\n",
    "print(ytrain.shape)\n",
    "print(xvalid.shape)\n",
    "print(yvalid.shape)\n",
    "print(xtest.shape)\n",
    "print(ytest.shape)"
   ]
  },
  {
   "cell_type": "code",
   "execution_count": 214,
   "metadata": {
    "collapsed": true
   },
   "outputs": [],
   "source": [
    "xtrain = xtrain.as_matrix()\n",
    "xtest = xtest.as_matrix()\n",
    "ytrain = ytrain.as_matrix()\n",
    "ytest = ytest.as_matrix()\n",
    "xvalid = xvalid.as_matrix()\n",
    "yvalid = yvalid.as_matrix()"
   ]
  },
  {
   "cell_type": "code",
   "execution_count": 215,
   "metadata": {},
   "outputs": [],
   "source": [
    "f=open('cs-training.csv','w')\n",
    "for i,j in enumerate(xtrain):\n",
    "    k=np.append(np.array(ytrain[i]),j   )\n",
    "    f.write(\",\".join([str(s) for s in k]) + '\\n')\n",
    "f.close()\n",
    "\n",
    "f=open('cs-testing.csv','w')\n",
    "for i,j in enumerate(xtest):\n",
    "    k=np.append(np.array(ytest[i]),j   )\n",
    "    f.write(\",\".join([str(s) for s in k]) + '\\n')\n",
    "f.close()\n",
    "\n",
    "f=open('cs-validation.csv','w')\n",
    "for i,j in enumerate(xvalid):\n",
    "    k=np.append(np.array(yvalid[i]),j   )\n",
    "    f.write(\",\".join([str(s) for s in k]) + '\\n')\n",
    "f.close()"
   ]
  },
  {
   "cell_type": "code",
   "execution_count": 216,
   "metadata": {
    "collapsed": true
   },
   "outputs": [],
   "source": [
    "def convertOneHot(data):\n",
    "    y=np.array([int(i[0]) for i in data])\n",
    "    y_onehot=[0]*len(y)\n",
    "    for i,j in enumerate(y):\n",
    "        y_onehot[i]=[0]*(y.max() + 1)\n",
    "        y_onehot[i][j]=1\n",
    "    return (y,y_onehot)"
   ]
  },
  {
   "cell_type": "code",
   "execution_count": 217,
   "metadata": {},
   "outputs": [],
   "source": [
    "data = np.genfromtxt('cs-training.csv',delimiter=',')  # Training data\n",
    "test_data = np.genfromtxt('cs-testing.csv',delimiter=',')  # Test data\n",
    "valid_data = np.genfromtxt('cs-validation.csv',delimiter=',')  # Test data\n",
    "\n",
    "xtrain=np.array([ i[1::] for i in data])\n",
    "ytrain,ytrain_onehot = convertOneHot(data)\n",
    "\n",
    "xtest=np.array([ i[1::] for i in test_data])\n",
    "ytest,ytest_onehot = convertOneHot(test_data)\n",
    "\n",
    "xvalid=np.array([ i[1::] for i in valid_data])\n",
    "yvalid,yvalid_onehot = convertOneHot(valid_data)"
   ]
  },
  {
   "cell_type": "code",
   "execution_count": 218,
   "metadata": {
    "collapsed": true
   },
   "outputs": [],
   "source": [
    "yvalid_onehot = np.asarray(yvalid_onehot)\n",
    "ytrain_onehot = np.asarray(ytrain_onehot)\n",
    "ytest_onehot = np.asarray(ytest_onehot)"
   ]
  },
  {
   "cell_type": "code",
   "execution_count": 219,
   "metadata": {
    "collapsed": true
   },
   "outputs": [],
   "source": [
    "input_nodes = xtrain.shape[1]\n",
    "\n",
    "mulitplier = 1.5 \n",
    "\n",
    "hidden_nodes1 = 8\n",
    "hidden_nodes2 = 8\n",
    "hidden_nodes3 = 8\n",
    "hidden_nodes4 = 8\n",
    "\n",
    "# hidden_nodes2 = round(hidden_nodes1 * mulitplier)\n",
    "# hidden_nodes3 = round(hidden_nodes2 * mulitplier)\n",
    "\n",
    "pkeep = tf.placeholder(tf.float32)"
   ]
  },
  {
   "cell_type": "code",
   "execution_count": 220,
   "metadata": {},
   "outputs": [],
   "source": [
    "# input\n",
    "x = tf.placeholder(tf.float32, [None, input_nodes])\n",
    "\n",
    "# layer 1\n",
    "W1 = tf.Variable(tf.truncated_normal([input_nodes, hidden_nodes1], stddev = sqrt(2/input_nodes)))\n",
    "b1 = tf.Variable(tf.zeros([hidden_nodes1]))\n",
    "y1 = tf.nn.sigmoid(tf.matmul(x, W1) + b1)\n",
    "\n",
    "# layer 2\n",
    "W2 = tf.Variable(tf.truncated_normal([hidden_nodes1, hidden_nodes2], stddev = sqrt(2/hidden_nodes1)))\n",
    "b2 = tf.Variable(tf.zeros([hidden_nodes2]))\n",
    "y2 = tf.nn.sigmoid(tf.matmul(y1, W2) + b2)\n",
    "\n",
    "# layer 3\n",
    "W3 = tf.Variable(tf.truncated_normal([hidden_nodes2, hidden_nodes3], stddev = sqrt(2/hidden_nodes2))) \n",
    "b3 = tf.Variable(tf.zeros([hidden_nodes3]))\n",
    "y3 = tf.nn.sigmoid(tf.matmul(y2, W3) + b3)\n",
    "y3 = tf.nn.dropout(y3, pkeep)\n",
    "\n",
    "# layer 4\n",
    "W4 = tf.Variable(tf.truncated_normal([hidden_nodes3, hidden_nodes4], stddev = sqrt(2/hidden_nodes3))) \n",
    "b4 = tf.Variable(tf.zeros([hidden_nodes4]))\n",
    "y4 = tf.nn.sigmoid(tf.matmul(y3, W4) + b4)\n",
    "y4 = tf.nn.dropout(y4, pkeep)\n",
    "\n",
    "# layer 5\n",
    "W5 = tf.Variable(tf.truncated_normal([hidden_nodes4, 2], stddev = sqrt(2/hidden_nodes4))) \n",
    "b5 = tf.Variable(tf.zeros([2]))\n",
    "y5 = tf.nn.softmax(tf.matmul(y4, W5) + b5)\n",
    "\n",
    "# output\n",
    "y = y5\n",
    "y_ = tf.placeholder(tf.float32, [None, 2])"
   ]
  },
  {
   "cell_type": "code",
   "execution_count": 221,
   "metadata": {
    "collapsed": true
   },
   "outputs": [],
   "source": [
    "# Parameters\n",
    "training_epochs = 1000\n",
    "training_dropout = 1\n",
    "display_step = 10\n",
    "n_samples = ytrain.shape[0]\n",
    "batch_size = 32\n",
    "learning_rate = 0.01"
   ]
  },
  {
   "cell_type": "code",
   "execution_count": 222,
   "metadata": {},
   "outputs": [],
   "source": [
    "cost = -tf.reduce_sum(y_*tf.log(tf.clip_by_value(y,1e-10,1.0)))\n",
    "\n",
    "optimizer = tf.train.AdamOptimizer(learning_rate).minimize(cost)\n",
    "\n",
    "correct_prediction = tf.equal(tf.argmax(y,1), tf.argmax(y_,1))\n",
    "accuracy = tf.reduce_mean(tf.cast(correct_prediction, tf.float32))\n",
    "\n",
    "pred_tensor = tf.cast(tf.argmax(y_, 1),tf.float32)\n",
    "y_tensor = tf.cast(tf.argmax(y,1),tf.float32)\n",
    "auc = tf.contrib.metrics.streaming_auc(y_tensor, pred_tensor)"
   ]
  },
  {
   "cell_type": "code",
   "execution_count": 223,
   "metadata": {
    "collapsed": true
   },
   "outputs": [],
   "source": [
    "accuracy_summary = [] \n",
    "cost_summary = [] \n",
    "auc_summary = []\n",
    "valid_accuracy_summary = [] \n",
    "valid_cost_summary = [] \n",
    "valid_auc_summary = []\n",
    "stop_early = 0\n",
    "\n",
    "checkpoint = \"checkpoint/best_model.ckpt\"\n",
    "saver = tf.train.Saver(max_to_keep=1)"
   ]
  },
  {
   "cell_type": "code",
   "execution_count": 224,
   "metadata": {},
   "outputs": [
    {
     "name": "stdout",
     "output_type": "stream",
     "text": [
      "Epoch: 0  | Accuracy = 0.58700  | Cost = 4129.24365  | Valid_Accuracy = 0.57400  | Valid_Cost =  1378.60522\n",
      "Epoch: 10  | Accuracy = 0.79350  | Cost = 2251.58862  | Valid_Accuracy = 0.78200  | Valid_Cost =  774.86230\n",
      "Epoch: 20  | Accuracy = 0.80767  | Cost = 1986.21094  | Valid_Accuracy = 0.79950  | Valid_Cost =  688.99054\n",
      "Epoch: 30  | Accuracy = 0.91450  | Cost = 1164.16541  | Valid_Accuracy = 0.90350  | Valid_Cost =  413.81085\n",
      "Epoch: 40  | Accuracy = 0.94933  | Cost = 747.33344  | Valid_Accuracy = 0.94450  | Valid_Cost =  263.88791\n",
      "Epoch: 50  | Accuracy = 0.95900  | Cost = 628.99829  | Valid_Accuracy = 0.95400  | Valid_Cost =  218.59900\n",
      "Epoch: 60  | Accuracy = 0.96167  | Cost = 571.24011  | Valid_Accuracy = 0.95950  | Valid_Cost =  199.49937\n",
      "Epoch: 70  | Accuracy = 0.96333  | Cost = 531.01160  | Valid_Accuracy = 0.96100  | Valid_Cost =  186.54672\n",
      "Epoch: 80  | Accuracy = 0.96500  | Cost = 497.74030  | Valid_Accuracy = 0.96400  | Valid_Cost =  175.74602\n",
      "Epoch: 90  | Accuracy = 0.96767  | Cost = 463.75522  | Valid_Accuracy = 0.96350  | Valid_Cost =  164.12666\n",
      "Epoch: 100  | Accuracy = 0.97000  | Cost = 433.88184  | Valid_Accuracy = 0.96650  | Valid_Cost =  152.97815\n",
      "Epoch: 110  | Accuracy = 0.97017  | Cost = 414.63358  | Valid_Accuracy = 0.97000  | Valid_Cost =  145.90193\n",
      "Epoch: 120  | Accuracy = 0.97050  | Cost = 398.76794  | Valid_Accuracy = 0.97200  | Valid_Cost =  140.67450\n",
      "Epoch: 130  | Accuracy = 0.97033  | Cost = 384.07355  | Valid_Accuracy = 0.97200  | Valid_Cost =  136.30968\n",
      "Epoch: 140  | Accuracy = 0.97133  | Cost = 372.17386  | Valid_Accuracy = 0.97300  | Valid_Cost =  133.42499\n",
      "Epoch: 150  | Accuracy = 0.97167  | Cost = 368.84894  | Valid_Accuracy = 0.97200  | Valid_Cost =  132.59264\n",
      "Epoch: 160  | Accuracy = 0.97017  | Cost = 381.34326  | Valid_Accuracy = 0.97100  | Valid_Cost =  136.89680\n",
      "Epoch: 170  | Accuracy = 0.97000  | Cost = 397.06476  | Valid_Accuracy = 0.97100  | Valid_Cost =  143.21722\n",
      "Epoch: 180  | Accuracy = 0.97033  | Cost = 401.01962  | Valid_Accuracy = 0.96800  | Valid_Cost =  145.68182\n",
      "Epoch: 190  | Accuracy = 0.97133  | Cost = 402.40662  | Valid_Accuracy = 0.96800  | Valid_Cost =  147.05350\n",
      "Epoch: 200  | Accuracy = 0.97117  | Cost = 403.32642  | Valid_Accuracy = 0.96750  | Valid_Cost =  148.12665\n",
      "Epoch: 210  | Accuracy = 0.97067  | Cost = 404.97064  | Valid_Accuracy = 0.96750  | Valid_Cost =  149.47105\n",
      "Epoch: 220  | Accuracy = 0.97050  | Cost = 408.69693  | Valid_Accuracy = 0.96700  | Valid_Cost =  151.80540\n",
      "Epoch: 230  | Accuracy = 0.97000  | Cost = 413.50604  | Valid_Accuracy = 0.96700  | Valid_Cost =  154.68031\n",
      "Epoch: 240  | Accuracy = 0.96983  | Cost = 418.41800  | Valid_Accuracy = 0.96550  | Valid_Cost =  157.51271\n",
      "Epoch: 250  | Accuracy = 0.97000  | Cost = 423.02887  | Valid_Accuracy = 0.96650  | Valid_Cost =  160.11595\n",
      "Epoch: 260  | Accuracy = 0.97017  | Cost = 427.53976  | Valid_Accuracy = 0.96600  | Valid_Cost =  162.61435\n",
      "Epoch: 270  | Accuracy = 0.96967  | Cost = 432.66129  | Valid_Accuracy = 0.96600  | Valid_Cost =  165.29657\n",
      "Epoch: 280  | Accuracy = 0.96883  | Cost = 438.90710  | Valid_Accuracy = 0.96550  | Valid_Cost =  168.39584\n",
      "Epoch: 290  | Accuracy = 0.96833  | Cost = 446.26440  | Valid_Accuracy = 0.96550  | Valid_Cost =  171.96518\n",
      "Epoch: 300  | Accuracy = 0.96783  | Cost = 454.26810  | Valid_Accuracy = 0.96550  | Valid_Cost =  175.89130\n",
      "Epoch: 310  | Accuracy = 0.96683  | Cost = 462.32907  | Valid_Accuracy = 0.96450  | Valid_Cost =  179.99887\n",
      "Epoch: 320  | Accuracy = 0.96633  | Cost = 469.93768  | Valid_Accuracy = 0.96300  | Valid_Cost =  184.08928\n",
      "Epoch: 330  | Accuracy = 0.96633  | Cost = 476.61127  | Valid_Accuracy = 0.96150  | Valid_Cost =  187.91943\n",
      "Epoch: 340  | Accuracy = 0.96633  | Cost = 481.77106  | Valid_Accuracy = 0.96050  | Valid_Cost =  191.17656\n",
      "Epoch: 350  | Accuracy = 0.96600  | Cost = 484.59125  | Valid_Accuracy = 0.95900  | Valid_Cost =  193.44740\n",
      "Epoch: 360  | Accuracy = 0.96550  | Cost = 483.97928  | Valid_Accuracy = 0.95850  | Valid_Cost =  194.22960\n",
      "Epoch: 370  | Accuracy = 0.96500  | Cost = 480.16171  | Valid_Accuracy = 0.95850  | Valid_Cost =  193.60748\n",
      "Epoch: 380  | Accuracy = 0.96567  | Cost = 474.12265  | Valid_Accuracy = 0.95850  | Valid_Cost =  192.06894\n",
      "Epoch: 390  | Accuracy = 0.96633  | Cost = 464.01474  | Valid_Accuracy = 0.96000  | Valid_Cost =  188.90018\n",
      "Epoch: 400  | Accuracy = 0.96733  | Cost = 450.56799  | Valid_Accuracy = 0.96000  | Valid_Cost =  184.01930\n",
      "\n",
      "Finished!\n",
      "Execute time: 210 seconds\n",
      "\n"
     ]
    }
   ],
   "source": [
    "start_time = time.time()\n",
    "with tf.Session() as sess:\n",
    "    sess.run(tf.global_variables_initializer())\n",
    "    \n",
    "    for epoch in range(training_epochs): \n",
    "        for batch in range(int(n_samples/batch_size)):\n",
    "            batch_x = xtrain[batch*batch_size : (1+batch)*batch_size]\n",
    "            batch_y = ytrain_onehot[batch*batch_size : (1+batch)*batch_size]\n",
    "\n",
    "            sess.run([optimizer], feed_dict={x: batch_x, \n",
    "                                             y_: batch_y,\n",
    "                                             pkeep: training_dropout})\n",
    "\n",
    "        if (epoch) % display_step == 0:\n",
    "            train_accuracy, newCost = sess.run([accuracy, cost], feed_dict={x: xtrain, \n",
    "                                                                            y_: ytrain_onehot,\n",
    "                                                                            pkeep: training_dropout})\n",
    "\n",
    "            valid_accuracy, valid_newCost = sess.run([accuracy, cost], feed_dict={x: xvalid, \n",
    "                                                                                  y_: yvalid_onehot,\n",
    "                                                                                  pkeep: 1})\n",
    "\n",
    "            print (\"Epoch:\", epoch,\n",
    "                   \" | Accuracy =\", \"{:.5f}\".format(train_accuracy), \n",
    "                   \" | Cost =\", \"{:.5f}\".format(newCost),\n",
    "                   \" | Valid_Accuracy =\", \"{:.5f}\".format(valid_accuracy), \n",
    "                   \" | Valid_Cost = \", \"{:.5f}\".format(valid_newCost))\n",
    "            \n",
    "            accuracy_summary.append(train_accuracy)\n",
    "            cost_summary.append(newCost)\n",
    "            valid_accuracy_summary.append(valid_accuracy)\n",
    "            valid_cost_summary.append(valid_newCost)\n",
    "            \n",
    "            if valid_accuracy <= max(valid_accuracy_summary) and epoch > 100:\n",
    "                stop_early += 1\n",
    "                if stop_early == 20:\n",
    "                    break\n",
    "            else:\n",
    "                stop_early = 0\n",
    "                saver.save(sess, checkpoint)\n",
    "            \n",
    "    print()\n",
    "    print(\"Finished!\")\n",
    "    print(\"Execute time: %1.f seconds\" % (time.time()-start_time))\n",
    "    print()"
   ]
  },
  {
   "cell_type": "code",
   "execution_count": 225,
   "metadata": {},
   "outputs": [
    {
     "data": {
      "image/png": "[encoded data removed]",
      "text/plain": [
       "<matplotlib.figure.Figure at 0x23daa680080>"
      ]
     },
     "metadata": {},
     "output_type": "display_data"
    }
   ],
   "source": [
    "f, (ax1, ax2) = plt.subplots(2, 1, sharex=True, figsize=(10,8))\n",
    "\n",
    "\n",
    "ax1.plot(accuracy_summary)\n",
    "ax1.plot(valid_accuracy_summary)\n",
    "ax1.set_title('Accuracy')\n",
    "\n",
    "ax2.plot(cost_summary)\n",
    "ax2.plot(valid_cost_summary)\n",
    "ax2.set_title('Cost')\n",
    "\n",
    "plt.xlabel('Epochs (x10)')\n",
    "plt.show()"
   ]
  },
  {
   "cell_type": "code",
   "execution_count": 226,
   "metadata": {},
   "outputs": [
    {
     "name": "stdout",
     "output_type": "stream",
     "text": [
      "INFO:tensorflow:Restoring parameters from checkpoint/best_model.ckpt\n",
      "Accuracy : 0.9675\n",
      "Precision: 0.96013864818\n",
      "Recall   : 0.98314108252\n",
      "F1       : 0.971503726436\n"
     ]
    },
    {
     "data": {
      "image/png": "[encoded data removed]",
      "text/plain": [
       "<matplotlib.figure.Figure at 0x23dbd35aba8>"
      ]
     },
     "metadata": {},
     "output_type": "display_data"
    }
   ],
   "source": [
    "predicted = tf.argmax(y, 1)\n",
    "with tf.Session() as sess:  \n",
    "    saver.restore(sess, checkpoint)\n",
    "    testing_predictions, testing_accuracy = sess.run([predicted, accuracy], \n",
    "                                                    feed_dict={x: xtest, y_:ytest_onehot, pkeep: 1})\n",
    "    c = confusion_matrix(ytest_onehot[:,1], testing_predictions)\n",
    "    show_confusion_matrix(c, ['Normal', 'Default'])"
   ]
  },
  {
   "cell_type": "code",
   "execution_count": 227,
   "metadata": {},
   "outputs": [],
   "source": [
    "# output = {'Actual': ytest_onehot[:,1], 'Predicted': testing_predictions}\n",
    "# df = pd.DataFrame(data=output)\n",
    "# df.to_csv(\"output.csv\", sep=',')"
   ]
  }
 ],
 "metadata": {
  "kernelspec": {
   "display_name": "Python 3",
   "language": "python",
   "name": "python3"
  },
  "language_info": {
   "codemirror_mode": {
    "name": "ipython",
    "version": 3
   },
   "file_extension": ".py",
   "mimetype": "text/x-python",
   "name": "python",
   "nbconvert_exporter": "python",
   "pygments_lexer": "ipython3",
   "version": "3.6.3"
  }
 },
 "nbformat": 4,
 "nbformat_minor": 2
}
